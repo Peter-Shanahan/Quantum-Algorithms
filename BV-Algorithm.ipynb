{
 "cells": [
  {
   "cell_type": "code",
   "execution_count": 1,
   "id": "1b6077ca",
   "metadata": {},
   "outputs": [],
   "source": [
    "import numpy as np\n",
    "import matplotlib.pyplot as plt\n",
    "from qiskit import *\n",
    "from qiskit_aer import AerSimulator\n",
    "import time"
   ]
  },
  {
   "cell_type": "code",
   "execution_count": 13,
   "id": "c07df999",
   "metadata": {},
   "outputs": [],
   "source": [
    "\n",
    "s=('1011')\n",
    "n=len(s)\n",
    "def circuit(n,s):\n",
    "    k=list(enumerate(reversed(s)))\n",
    "    circuit=QuantumCircuit(n+1,n)\n",
    "    ###########Preparation Of Circuit\n",
    "    circuit.x(n)\n",
    "    for i in range(0,n+1):\n",
    "        circuit.h(i)\n",
    "    circuit.barrier()\n",
    "    ###########Implimentation Of Unitary\n",
    "    for i in range(n):\n",
    "        if k[i][1]=='1':\n",
    "            circuit.cx(i,n)\n",
    "    circuit.barrier()\n",
    "    ###########Finishing Hadamards\n",
    "    for i in range(0,n):\n",
    "        circuit.h(i)\n",
    "    for i in range(0,n):\n",
    "        circuit.measure(i,i)\n",
    "    return(circuit)"
   ]
  },
  {
   "cell_type": "code",
   "execution_count": 14,
   "id": "9c7d35e7",
   "metadata": {},
   "outputs": [
    {
     "name": "stdout",
     "output_type": "stream",
     "text": [
      "{'1011': 10000}\n",
      "Accuracy of output with no errors = 1.0\n",
      "--- 0.06409025192260742 seconds ---\n"
     ]
    }
   ],
   "source": [
    "start_time = time.time()\n",
    "final_circuit=circuit(n,s) \n",
    "\n",
    "simulator = AerSimulator()        \n",
    "compiled_circuit = transpile(final_circuit, simulator)\n",
    "job = simulator.run(compiled_circuit, shots=10000)      #Running circuit 10000 times on Aer Simulator\n",
    "result = job.result()\n",
    "counts = result.get_counts(compiled_circuit)    #Retrieving results\n",
    "print(counts)\n",
    "print(\"Accuracy of output with no errors =\", counts[s]/10000)\n",
    "print(\"--- %s seconds ---\" % (time.time() - start_time))"
   ]
  },
  {
   "cell_type": "code",
   "execution_count": 3,
   "id": "82b25565",
   "metadata": {},
   "outputs": [],
   "source": [
    "from qiskit.providers.fake_provider import FakeGeneva\n",
    "backend = FakeGeneva()"
   ]
  },
  {
   "cell_type": "code",
   "execution_count": 8,
   "id": "b28634a3",
   "metadata": {},
   "outputs": [
    {
     "name": "stdout",
     "output_type": "stream",
     "text": [
      "Accuracy of output on simulator with errors = 0.0587\n",
      "--- 61.205347299575806 seconds ---\n"
     ]
    }
   ],
   "source": [
    "start_time = time.time()\n",
    "final_circuit=circuit(n,s) #Inputs are n and the oracle_function for a balanced function\n",
    "                                                     #As an example\n",
    "      \n",
    "compiled_circuit = transpile(final_circuit, backend)\n",
    "job = backend.run(compiled_circuit, shots=10000)      #Running circuit 10000 times on Aer Simulator\n",
    "result = job.result()\n",
    "counts = result.get_counts(compiled_circuit)    #Retrieving results\n",
    "#print(counts)\n",
    "print(\"Accuracy of output on simulator with errors =\", counts[s]/10000)\n",
    "print(\"--- %s seconds ---\" % (time.time() - start_time))"
   ]
  },
  {
   "cell_type": "markdown",
   "id": "dc7273eb",
   "metadata": {},
   "source": []
  }
 ],
 "metadata": {
  "kernelspec": {
   "display_name": "Python 3 (ipykernel)",
   "language": "python",
   "name": "python3"
  },
  "language_info": {
   "codemirror_mode": {
    "name": "ipython",
    "version": 3
   },
   "file_extension": ".py",
   "mimetype": "text/x-python",
   "name": "python",
   "nbconvert_exporter": "python",
   "pygments_lexer": "ipython3",
   "version": "3.9.13"
  }
 },
 "nbformat": 4,
 "nbformat_minor": 5
}
