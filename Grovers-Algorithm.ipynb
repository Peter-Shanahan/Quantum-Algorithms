{
 "cells": [
  {
   "cell_type": "code",
   "execution_count": 4,
   "id": "d2472ed2",
   "metadata": {},
   "outputs": [],
   "source": [
    "!pip install -U qiskit==0.19\n",
    "!pip install -U qiskit-ibmq-provider==0.7\n",
    "from IPython.display import clear_output\n",
    "clear_output()"
   ]
  },
  {
   "cell_type": "code",
   "execution_count": null,
   "id": "c2761c76",
   "metadata": {},
   "outputs": [],
   "source": [
    "import numpy as np\n",
    "import matplotlib.pyplot as plt\n",
    "from qiskit import *\n",
    "from qiskit_aer import AerSimulator"
   ]
  },
  {
   "cell_type": "code",
   "execution_count": 2,
   "id": "b547e3cb",
   "metadata": {},
   "outputs": [
    {
     "data": {
      "text/html": [
       "<pre style=\"word-wrap: normal;white-space: pre;background: #fff0;line-height: 1.1;font-family: &quot;Courier New&quot;,Courier,monospace\">        ┌───┐          ┌───┐┌───┐               ┌───┐┌───┐               ┌───┐»\n",
       "   q_0: ┤ H ├───────■──┤ H ├┤ X ├────────────■──┤ X ├┤ H ├────────────■──┤ H ├»\n",
       "        ├───┤┌───┐  │  ├───┤├───┤┌───┐       │  ├───┤├───┤┌───┐       │  ├───┤»\n",
       "   q_1: ┤ H ├┤ X ├──■──┤ X ├┤ H ├┤ X ├───────■──┤ X ├┤ H ├┤ X ├───────■──┤ X ├»\n",
       "        ├───┤├───┤┌─┴─┐├───┤├───┤├───┤┌───┐┌─┴─┐├───┤├───┤├───┤┌───┐┌─┴─┐├───┤»\n",
       "   q_2: ┤ H ├┤ H ├┤ X ├┤ H ├┤ H ├┤ X ├┤ H ├┤ X ├┤ H ├┤ X ├┤ H ├┤ H ├┤ X ├┤ H ├»\n",
       "        └───┘└───┘└───┘└───┘└───┘└───┘└───┘└───┘└───┘└───┘└───┘└───┘└───┘└───┘»\n",
       "meas: 3/══════════════════════════════════════════════════════════════════════»\n",
       "                                                                              »\n",
       "«        ┌───┐               ┌───┐┌───┐      ░ ┌─┐      \n",
       "«   q_0: ┤ X ├────────────■──┤ X ├┤ H ├──────░─┤M├──────\n",
       "«        ├───┤┌───┐       │  ├───┤├───┤      ░ └╥┘┌─┐   \n",
       "«   q_1: ┤ H ├┤ X ├───────■──┤ X ├┤ H ├──────░──╫─┤M├───\n",
       "«        ├───┤├───┤┌───┐┌─┴─┐├───┤├───┤┌───┐ ░  ║ └╥┘┌─┐\n",
       "«   q_2: ┤ H ├┤ X ├┤ H ├┤ X ├┤ H ├┤ X ├┤ H ├─░──╫──╫─┤M├\n",
       "«        └───┘└───┘└───┘└───┘└───┘└───┘└───┘ ░  ║  ║ └╥┘\n",
       "«meas: 3/═══════════════════════════════════════╩══╩══╩═\n",
       "«                                               0  1  2 </pre>"
      ],
      "text/plain": [
       "        ┌───┐          ┌───┐┌───┐               ┌───┐┌───┐               ┌───┐»\n",
       "   q_0: ┤ H ├───────■──┤ H ├┤ X ├────────────■──┤ X ├┤ H ├────────────■──┤ H ├»\n",
       "        ├───┤┌───┐  │  ├───┤├───┤┌───┐       │  ├───┤├───┤┌───┐       │  ├───┤»\n",
       "   q_1: ┤ H ├┤ X ├──■──┤ X ├┤ H ├┤ X ├───────■──┤ X ├┤ H ├┤ X ├───────■──┤ X ├»\n",
       "        ├───┤├───┤┌─┴─┐├───┤├───┤├───┤┌───┐┌─┴─┐├───┤├───┤├───┤┌───┐┌─┴─┐├───┤»\n",
       "   q_2: ┤ H ├┤ H ├┤ X ├┤ H ├┤ H ├┤ X ├┤ H ├┤ X ├┤ H ├┤ X ├┤ H ├┤ H ├┤ X ├┤ H ├»\n",
       "        └───┘└───┘└───┘└───┘└───┘└───┘└───┘└───┘└───┘└───┘└───┘└───┘└───┘└───┘»\n",
       "meas: 3/══════════════════════════════════════════════════════════════════════»\n",
       "                                                                              »\n",
       "«        ┌───┐               ┌───┐┌───┐      ░ ┌─┐      \n",
       "«   q_0: ┤ X ├────────────■──┤ X ├┤ H ├──────░─┤M├──────\n",
       "«        ├───┤┌───┐       │  ├───┤├───┤      ░ └╥┘┌─┐   \n",
       "«   q_1: ┤ H ├┤ X ├───────■──┤ X ├┤ H ├──────░──╫─┤M├───\n",
       "«        ├───┤├───┤┌───┐┌─┴─┐├───┤├───┤┌───┐ ░  ║ └╥┘┌─┐\n",
       "«   q_2: ┤ H ├┤ X ├┤ H ├┤ X ├┤ H ├┤ X ├┤ H ├─░──╫──╫─┤M├\n",
       "«        └───┘└───┘└───┘└───┘└───┘└───┘└───┘ ░  ║  ║ └╥┘\n",
       "«meas: 3/═══════════════════════════════════════╩══╩══╩═\n",
       "«                                               0  1  2 "
      ]
     },
     "execution_count": 2,
     "metadata": {},
     "output_type": "execute_result"
    }
   ],
   "source": [
    "n=3\n",
    "ans=['101']    #This is the value of x for which f(x)=1, for all else f(x)=0\n",
    "               \n",
    "def circuit(n):\n",
    "    circuit=QuantumCircuit(n)\n",
    "    for i in range(n):\n",
    "        circuit.h(i)\n",
    "        \n",
    "    ######## Input Grover Circuit ######\n",
    "    for i in range(int(np.sqrt(2**n))):\n",
    "        ##### Zf\n",
    "        circuit.x(1)\n",
    "        circuit.h(2)\n",
    "        circuit.ccx(0,1,2)\n",
    "        circuit.x(1)\n",
    "        circuit.h(2)\n",
    "        ##### h\n",
    "        circuit.h([0,1,2])\n",
    "        ##### Z0\n",
    "        circuit.x([0,1,2])\n",
    "        circuit.h(2)\n",
    "        circuit.ccx(0,1,2)\n",
    "        circuit.h(2)\n",
    "        circuit.x([0,1,2])\n",
    "        ###### h\n",
    "        circuit.h([0,1,2])\n",
    "    circuit.measure_all()\n",
    "    return(circuit)\n",
    "\n",
    "circuit(n).draw()\n",
    "        "
   ]
  },
  {
   "cell_type": "code",
   "execution_count": 3,
   "id": "db2920a2",
   "metadata": {},
   "outputs": [
    {
     "name": "stdout",
     "output_type": "stream",
     "text": [
      "{'101': 9440, '011': 94, '110': 79, '010': 79, '100': 72, '111': 70, '000': 81, '001': 85}\n",
      "Accuracy of output with no errors = 0.944\n"
     ]
    }
   ],
   "source": [
    "final_circuit=circuit(n) \n",
    "\n",
    "simulator = AerSimulator()        \n",
    "compiled_circuit = transpile(final_circuit, simulator)\n",
    "job = simulator.run(compiled_circuit, shots=10000)      #Running circuit 10000 times on Aer Simulator\n",
    "result = job.result()\n",
    "counts = result.get_counts(compiled_circuit)    #Retrieving results\n",
    "print(counts)\n",
    "print(\"Accuracy of output with no errors =\", counts['101']/10000)"
   ]
  },
  {
   "cell_type": "code",
   "execution_count": 21,
   "id": "6ff77e2d",
   "metadata": {},
   "outputs": [],
   "source": [
    "from qiskit.providers.fake_provider import FakeGeneva\n",
    "backend = FakeGeneva()"
   ]
  },
  {
   "cell_type": "code",
   "execution_count": 31,
   "id": "196ef77f",
   "metadata": {},
   "outputs": [
    {
     "name": "stdout",
     "output_type": "stream",
     "text": [
      "{'101': 5546, '011': 583, '110': 574, '100': 746, '010': 501, '111': 786, '001': 710, '000': 554}\n",
      "Accuracy of output on simulator with errors = 0.5546\n"
     ]
    }
   ],
   "source": [
    "final_circuit=circuit(n) #Inputs are n and the oracle_function for a balanced function\n",
    "                                                     #As an example\n",
    "      \n",
    "compiled_circuit = transpile(final_circuit, backend)\n",
    "job = backend.run(compiled_circuit, shots=10000)      #Running circuit 10000 times on Aer Simulator\n",
    "result = job.result()\n",
    "counts = result.get_counts(compiled_circuit)    #Retrieving results\n",
    "print(counts)\n",
    "print(\"Accuracy of output on simulator with errors =\", counts['101']/10000)"
   ]
  },
  {
   "cell_type": "code",
   "execution_count": null,
   "id": "5e0dd863",
   "metadata": {},
   "outputs": [],
   "source": []
  }
 ],
 "metadata": {
  "kernelspec": {
   "display_name": "Python 3 (ipykernel)",
   "language": "python",
   "name": "python3"
  },
  "language_info": {
   "codemirror_mode": {
    "name": "ipython",
    "version": 3
   },
   "file_extension": ".py",
   "mimetype": "text/x-python",
   "name": "python",
   "nbconvert_exporter": "python",
   "pygments_lexer": "ipython3",
   "version": "3.9.13"
  }
 },
 "nbformat": 4,
 "nbformat_minor": 5
}
