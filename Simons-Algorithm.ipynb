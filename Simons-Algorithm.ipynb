{
 "cells": [
  {
   "cell_type": "code",
   "execution_count": 273,
   "id": "dd500de9",
   "metadata": {},
   "outputs": [
    {
     "data": {
      "text/html": [
       "<pre style=\"word-wrap: normal;white-space: pre;background: #fff0;line-height: 1.1;font-family: &quot;Courier New&quot;,Courier,monospace\">     ┌───┐ ░                      ░ ┌───┐┌─┐      \n",
       "q_0: ┤ H ├─░───■──────────────────░─┤ H ├┤M├──────\n",
       "     ├───┤ ░   │                  ░ ├───┤└╥┘┌─┐   \n",
       "q_1: ┤ H ├─░───┼────■─────────────░─┤ H ├─╫─┤M├───\n",
       "     ├───┤ ░   │    │             ░ ├───┤ ║ └╥┘┌─┐\n",
       "q_2: ┤ H ├─░───┼────┼────■────■───░─┤ H ├─╫──╫─┤M├\n",
       "     └───┘ ░ ┌─┴─┐  │    │    │   ░ └───┘ ║  ║ └╥┘\n",
       "q_3: ──────░─┤ X ├──┼────┼────┼───░───────╫──╫──╫─\n",
       "           ░ └───┘┌─┴─┐  │    │   ░       ║  ║  ║ \n",
       "q_4: ──────░──────┤ X ├──┼────┼───░───────╫──╫──╫─\n",
       "           ░      └───┘┌─┴─┐┌─┴─┐ ░       ║  ║  ║ \n",
       "q_5: ──────░───────────┤ X ├┤ X ├─░───────╫──╫──╫─\n",
       "           ░           └───┘└───┘ ░       ║  ║  ║ \n",
       "c: 3/═════════════════════════════════════╩══╩══╩═\n",
       "                                          0  1  2 </pre>"
      ],
      "text/plain": [
       "     ┌───┐ ░                      ░ ┌───┐┌─┐      \n",
       "q_0: ┤ H ├─░───■──────────────────░─┤ H ├┤M├──────\n",
       "     ├───┤ ░   │                  ░ ├───┤└╥┘┌─┐   \n",
       "q_1: ┤ H ├─░───┼────■─────────────░─┤ H ├─╫─┤M├───\n",
       "     ├───┤ ░   │    │             ░ ├───┤ ║ └╥┘┌─┐\n",
       "q_2: ┤ H ├─░───┼────┼────■────■───░─┤ H ├─╫──╫─┤M├\n",
       "     └───┘ ░ ┌─┴─┐  │    │    │   ░ └───┘ ║  ║ └╥┘\n",
       "q_3: ──────░─┤ X ├──┼────┼────┼───░───────╫──╫──╫─\n",
       "           ░ └───┘┌─┴─┐  │    │   ░       ║  ║  ║ \n",
       "q_4: ──────░──────┤ X ├──┼────┼───░───────╫──╫──╫─\n",
       "           ░      └───┘┌─┴─┐┌─┴─┐ ░       ║  ║  ║ \n",
       "q_5: ──────░───────────┤ X ├┤ X ├─░───────╫──╫──╫─\n",
       "           ░           └───┘└───┘ ░       ║  ║  ║ \n",
       "c: 3/═════════════════════════════════════╩══╩══╩═\n",
       "                                          0  1  2 "
      ]
     },
     "execution_count": 273,
     "metadata": {},
     "output_type": "execute_result"
    }
   ],
   "source": [
    "########### Simons Algorithem##################\n",
    "\n",
    "import numpy as np\n",
    "import matplotlib.pyplot as plt\n",
    "from qiskit import *\n",
    "from qiskit_aer import AerSimulator\n",
    "\n",
    "s='100'      #Input Sectet String here\n",
    "n=len(s)\n",
    "\n",
    "def circuit(n,s):\n",
    "    a=list(enumerate(reversed(s)))\n",
    "    circuit=QuantumCircuit(2*n,n)\n",
    "    for i in range(n):\n",
    "        circuit.h(i)\n",
    "    circuit.barrier()\n",
    "###########Oracle Unitary################\n",
    "    for i in range(n):\n",
    "        circuit.cx(i,i+n)\n",
    "    for i in range(n):\n",
    "        if a[i][1]=='1':\n",
    "            circuit.cx(i,n+i)\n",
    "    circuit.barrier()\n",
    "###########End Part of Circuit############\n",
    "    for i in range(n):\n",
    "        circuit.h(i)\n",
    "    for i in range(n):\n",
    "        circuit.measure(i,i)\n",
    "    return(circuit)\n",
    "   \n",
    "#This is for converting secret string to list\n",
    "\n",
    "matrix1 = [0]*n\n",
    "a=list(enumerate(s))\n",
    "\n",
    "for i in range(n):\n",
    "    matrix1[i]=int(a[i][1])\n",
    "a=matrix1\n",
    "\n",
    "circuit(n,s).draw()"
   ]
  },
  {
   "cell_type": "code",
   "execution_count": 274,
   "id": "6dbe16be",
   "metadata": {},
   "outputs": [
    {
     "name": "stdout",
     "output_type": "stream",
     "text": [
      "{'001': 2565, '011': 2439, '010': 2517, '000': 2479}\n"
     ]
    }
   ],
   "source": [
    "#######Noiseless Simulator Quantum Algorithm#########\n",
    "\n",
    "final_circuit=circuit(n,s) \n",
    "\n",
    "simulator = AerSimulator()        \n",
    "compiled_circuit = transpile(final_circuit, simulator)\n",
    "job = simulator.run(compiled_circuit, shots=10000)      #Running circuit 10000 times on Aer Simulator\n",
    "result = job.result()\n",
    "counts = result.get_counts(compiled_circuit)    #Retrieving results\n",
    "print(counts)\n"
   ]
  },
  {
   "cell_type": "code",
   "execution_count": 276,
   "id": "f3962053",
   "metadata": {},
   "outputs": [],
   "source": [
    "#Converting outputs of quantum algorithm into matrix\n",
    "b=list(counts.keys())\n",
    "\n",
    "matrix = [[0 for _ in range(n)] for _ in range(len(b))]\n",
    "for i in range(len(b)):\n",
    "    for j in range(n):\n",
    "        matrix[i][j]=int(b[i][j])\n",
    "b=matrix\n"
   ]
  },
  {
   "cell_type": "code",
   "execution_count": 270,
   "id": "5ca0736a",
   "metadata": {
    "scrolled": true
   },
   "outputs": [
    {
     "name": "stdout",
     "output_type": "stream",
     "text": [
      "[0, 0, 1] modulo addition s = 0\n",
      "[0, 1, 0] modulo addition s = 0\n",
      "[0, 0, 0] modulo addition s = 0\n",
      "[0, 1, 1] modulo addition s = 0\n",
      "[1, 0, 1] modulo addition s = 1\n",
      "[1, 1, 0] modulo addition s = 1\n",
      "[1, 1, 1] modulo addition s = 1\n",
      "[1, 0, 0] modulo addition s = 1\n"
     ]
    }
   ],
   "source": [
    "####Post processing outputs of quantum algorithm to confirm s and testing results\n",
    "\n",
    "output=0\n",
    "\n",
    "for i in range(len(b)):\n",
    "    out=0\n",
    "    for j in range(n):\n",
    "        out=out+(b[i][j]*a[j])%2 \n",
    "    print(b[i],\"modulo addition s =\",out%2)"
   ]
  },
  {
   "cell_type": "code",
   "execution_count": 266,
   "id": "f53432f2",
   "metadata": {},
   "outputs": [],
   "source": [
    "from qiskit.providers.fake_provider import FakeGeneva\n",
    "backend = FakeGeneva()"
   ]
  },
  {
   "cell_type": "code",
   "execution_count": 277,
   "id": "389be49f",
   "metadata": {},
   "outputs": [
    {
     "name": "stdout",
     "output_type": "stream",
     "text": [
      "{'000': 2428, '011': 2571, '001': 2460, '010': 2334, '110': 42, '111': 59, '101': 45, '100': 61}\n"
     ]
    }
   ],
   "source": [
    "####Running circuit on noisy simulator\n",
    "\n",
    "\n",
    "final_circuit=circuit(n,s) #Inputs are n and the oracle_function for a balanced function\n",
    "                                                     #As an example\n",
    "      \n",
    "compiled_circuit = transpile(final_circuit, backend)\n",
    "job = backend.run(compiled_circuit, shots=10000)      #Running circuit 10000 times on Aer Simulator\n",
    "result = job.result()\n",
    "counts = result.get_counts(compiled_circuit)    #Retrieving results\n",
    "print(counts)"
   ]
  },
  {
   "cell_type": "code",
   "execution_count": 278,
   "id": "df990704",
   "metadata": {},
   "outputs": [],
   "source": [
    "#Converting outputs of quantum algorithm into matrix\n",
    "\n",
    "b1=list(counts.keys())\n",
    "\n",
    "matrix = [[0 for _ in range(n)] for _ in range(len(b1))]\n",
    "\n",
    "for i in range(len(b1)):\n",
    "    for j in range(n):\n",
    "        matrix[i][j]=int(b1[i][j])\n",
    "b=matrix\n"
   ]
  },
  {
   "cell_type": "code",
   "execution_count": 280,
   "id": "5fc7c09b",
   "metadata": {},
   "outputs": [
    {
     "name": "stdout",
     "output_type": "stream",
     "text": [
      "[0, 0, 0] modulo addition s = 0\n",
      "[0, 1, 1] modulo addition s = 0\n",
      "[0, 0, 1] modulo addition s = 0\n",
      "[0, 1, 0] modulo addition s = 0\n",
      "[1, 1, 0] modulo addition s = 1\n",
      "[1, 1, 1] modulo addition s = 1\n",
      "[1, 0, 1] modulo addition s = 1\n",
      "[1, 0, 0] modulo addition s = 1\n"
     ]
    }
   ],
   "source": [
    "####Post processing outputs of quantum algorithm to confirm s and testing results\n",
    "\n",
    "output=0\n",
    "\n",
    "for i in range(len(b)):\n",
    "    out=0\n",
    "    for j in range(n):\n",
    "        out=out+(b[i][j]*a[j])\n",
    "        \n",
    "     \n",
    "    print(b[i],\"modulo addition s =\",out%2)\n",
    "#Note quantum circuit has outputted many strongs not orthogonal to s"
   ]
  },
  {
   "cell_type": "code",
   "execution_count": null,
   "id": "7be3f031",
   "metadata": {},
   "outputs": [],
   "source": []
  },
  {
   "cell_type": "code",
   "execution_count": null,
   "id": "c0027d5a",
   "metadata": {},
   "outputs": [],
   "source": []
  }
 ],
 "metadata": {
  "kernelspec": {
   "display_name": "Python 3 (ipykernel)",
   "language": "python",
   "name": "python3"
  },
  "language_info": {
   "codemirror_mode": {
    "name": "ipython",
    "version": 3
   },
   "file_extension": ".py",
   "mimetype": "text/x-python",
   "name": "python",
   "nbconvert_exporter": "python",
   "pygments_lexer": "ipython3",
   "version": "3.9.13"
  }
 },
 "nbformat": 4,
 "nbformat_minor": 5
}
