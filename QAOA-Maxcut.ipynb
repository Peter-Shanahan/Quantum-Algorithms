{
 "cells": [
  {
   "cell_type": "markdown",
   "id": "3c418990",
   "metadata": {},
   "source": [
    "############# Readme ##############\n",
    "The script comprises primarily of two functions the cut() function which returns the cut value for certain inputs and the QAOA function which produces a QAOA quantum circuit depending on the input graph and graph connections. The graph node number is encoded as a list of indexed qubits in V and the connections are encoded as tuples of node indexes in list E. The remainder of the scripy comprises of setting up the grid scan of the QAOA parameter space and performing tests of the algorithm on noiseless and noisy simulaotrs"
   ]
  },
  {
   "cell_type": "code",
   "execution_count": 171,
   "id": "c88618c7",
   "metadata": {},
   "outputs": [],
   "source": [
    "from qiskit import *\n",
    "import numpy as np\n",
    "from qiskit.visualization import plot_histogram\n",
    "import qiskit.tools.jupyter \n",
    "import matplotlib.pyplot as plt\n",
    "import time"
   ]
  },
  {
   "cell_type": "code",
   "execution_count": 73,
   "id": "4eeb44ad",
   "metadata": {},
   "outputs": [],
   "source": [
    "###### Encoding the Maxcut using Quantum\n",
    "\n",
    "V=[0,1,2,3]  #Nodes of the graph\n",
    "E=[[0,1],[1,2],[2,3],[3,0]] #Connections Of the graph\n",
    "\n",
    "\n"
   ]
  },
  {
   "cell_type": "code",
   "execution_count": 166,
   "id": "620542fe",
   "metadata": {},
   "outputs": [],
   "source": [
    "##Re-using bits from circuit simulator code\n",
    "I=[[1,0],[0,1]]\n",
    "Z=[[1,0],[0,-1]]\n",
    "def sing_gate(K,l,N):       #Function creates matrix to represent single qubit gate K in index l in N qubit register\n",
    "    master_list=[0]*N\n",
    "    for i in range(len(master_list)):\n",
    "        master_list[i]=I\n",
    "    master_list[l]=K\n",
    "    Matrix=master_list[0]\n",
    "    for i in range(1,N):\n",
    "        Matrix=np.kron(Matrix,master_list[i])\n",
    "    return(Matrix)\n"
   ]
  },
  {
   "cell_type": "code",
   "execution_count": 167,
   "id": "998465ad",
   "metadata": {},
   "outputs": [],
   "source": [
    "#Computing the expectation value for cut operator using matrix representation.\n",
    "#Used to find cut value of any input state.\n",
    "def cut(inputs):\n",
    "    inputs=list(inputs)\n",
    "    for i in range(len(inputs)):\n",
    "        inputs[i]=int(inputs[i]) #Converting bitstring inputs to string of boolean integers\n",
    "    Cuts=[]\n",
    "    for i in range (len(E)): #Computing the expectation value of a cut as outlined in reference\n",
    "        \n",
    "        N=len(inputs)\n",
    "        a=E[i][0]\n",
    "        b=E[i][1]\n",
    "        Matrix=sing_gate(Z,a,len(V))*sing_gate(Z,b,len(V)) #Creating ZZ gate as outlined in reference\n",
    "        Zero=[[1],[0]]\n",
    "        One=[[0],[1]]\n",
    "        if inputs[0]==0:                              #Creating input state from boolean integers of state that is to be tested\n",
    "            input_state=Zero\n",
    "            for i in range(1,N):\n",
    "                if inputs[i]==0:\n",
    "                    input_state=np.kron(input_state,Zero)\n",
    "                if inputs[i]==1:\n",
    "                    input_state=np.kron(input_state,One)\n",
    "        if inputs[0]==1:\n",
    "            input_state=One\n",
    "            for i in range(1,N):\n",
    "                if inputs[i]==0:\n",
    "                    input_state=np.kron(input_state,Zero)\n",
    "                if inputs[i]==1:\n",
    "                    input_state=np.kron(input_state,One)\n",
    "        expect=np.transpose(input_state)@Matrix@input_state\n",
    "        \n",
    "        Cuts.append(-expect)   #Making a list of cut values\n",
    "    return(np.sum(Cuts))     #Summing list of cut values\n",
    "\n"
   ]
  },
  {
   "cell_type": "code",
   "execution_count": 199,
   "id": "b94cb324",
   "metadata": {},
   "outputs": [],
   "source": [
    "def QAOA(a,b):     #a and b are parameters for separation and rotation matricies\n",
    "    circuit=QuantumCircuit(len(V))  #Parameterizing length of circuit by number of nodes in graph\n",
    "    for i in range(len(V)):\n",
    "        circuit.h(i)                #Creating maximal superposition\n",
    "    for i in range (len(E)):\n",
    "        circuit.cx(E[i][0],E[i][1])   #Adding gates to impliment separation matrix\n",
    "        circuit.p(a,E[i][1])\n",
    "        circuit.cx(E[i][0],E[i][1])\n",
    "    for i in range(len(V)):\n",
    "        circuit.rx(2*b,i)            #Adding gates to impliment mixer matrix\n",
    "    circuit.measure_all()\n",
    "    return(circuit)\n",
    "      "
   ]
  },
  {
   "cell_type": "code",
   "execution_count": null,
   "id": "0ed69592",
   "metadata": {},
   "outputs": [],
   "source": []
  },
  {
   "cell_type": "code",
   "execution_count": 200,
   "id": "42c34fff",
   "metadata": {
    "scrolled": true
   },
   "outputs": [
    {
     "name": "stdout",
     "output_type": "stream",
     "text": [
      "Time taken for circuit with 7 nodes: 8.216415643692017\n",
      "Optimal Parameters and optimal state: (0.0, 2.443460952792061, '1010111')\n",
      "Maximum Cut 7\n"
     ]
    }
   ],
   "source": [
    "#######Implimenting QAOA for maxcut with graph and random connections\n",
    "start_time=time.time()\n",
    "V=[0,1,2,3,4,5,6]  #Nodes of the graph\n",
    "E=[[0,1],[1,2],[1,2],[1,3],[0,3],[3,4],[1,4],[0,5],[3,5],[2,3],[3,0],[1,5],[0,4]] #Connections Of the graph\n",
    "shots=10000\n",
    "dict={}\n",
    "a_values=np.linspace(0,2*np.pi,10)   #array of alpha values for classicalparameter grid scan\n",
    "b_values=np.linspace(0,np.pi,10)#array of beta values for classicalparameter grid scan\n",
    "for a in range(len(a_values)):\n",
    "    for b in range(len(b_values)):\n",
    "        counts = execute(QAOA(a_values[a],b_values[b]), sim, shots=shots).result().get_counts() #executing for certain a and b\n",
    "        final_state=max(counts,key=counts.get)     #Getting most common state\n",
    "        maxcut=cut(final_state)                   #Finding cut of most common state\n",
    "        dict[(a_values[a], b_values[b],final_state)] = maxcut  #Placing a,b,output state, and maxcut produced into a dictionary\n",
    "optimal_params = max(dict, key=lambda k: dict[k])  #Finding parameters which produced state with largest maxcut\n",
    "maximum = dict[optimal_params]\n",
    "end_time=time.time()\n",
    "time_taken=end_time-start_time\n",
    "print(\"Time taken for circuit with\",len(V),\"nodes:\",time_taken)\n",
    "print(\"Optimal Parameters and optimal state:\", optimal_params)\n",
    "print(\"Maximum Cut\", maximum)"
   ]
  },
  {
   "cell_type": "code",
   "execution_count": null,
   "id": "ef234b2b",
   "metadata": {},
   "outputs": [],
   "source": [
    "#######Finding the effect of varying beta values for mixer matrix-----Basically same as last cell with restricted grid search\n",
    "start_time=time.time()\n",
    "V=[0,1,2,3,4,5]  #Nodes of the graph\n",
    "E=[[0,1],[1,2],[1,2],[1,3],[0,3],[3,4],[1,4]] #Connections Of the graph\n",
    "shots=10000\n",
    "dict={}\n",
    "a=np.pi/4 #Keeping a value constant\n",
    "b_values=np.linspace(0,np.pi,10)\n",
    "for b in range(len(b_values)):\n",
    "        counts = execute(QAOA(a,b_values[b]), sim, shots=shots).result().get_counts()\n",
    "        final_state=max(counts,key=counts.get)\n",
    "        maxcut=cut(final_state)\n",
    "        dict[(a, b_values[b],final_state)] = maxcut\n",
    "        #optimal_params = max(dict, key=lambda k: dict[k])\n",
    "        #maximum = dict[optimal_params]\n",
    "end_time=time.time()\n",
    "time_taken=end_time-start_time\n",
    "#print(\"Time taken for circuit with\",len(V),\"nodes:\",time_taken)\n",
    "#print(\"Optimal Parameters and optimal state:\", optimal_params)\n",
    "#print(\"Maximum Cut\", maximum)\n",
    "print(dict)"
   ]
  },
  {
   "cell_type": "code",
   "execution_count": 191,
   "id": "db1b392c",
   "metadata": {},
   "outputs": [],
   "source": [
    "from qiskit.providers.fake_provider import FakeMelbourne\n",
    "backend = FakeMelbourne()\n",
    "shots=10000"
   ]
  },
  {
   "cell_type": "code",
   "execution_count": 196,
   "id": "9a9d85f5",
   "metadata": {},
   "outputs": [
    {
     "name": "stdout",
     "output_type": "stream",
     "text": [
      "Time taken for circuit with 7 nodes: 69.9832112789154\n",
      "Optimal Parameters and optimal state: (1.3962634015954636, 0.6981317007977318, '1001001')\n",
      "Maximum Cut 1\n"
     ]
    }
   ],
   "source": [
    "#######Implimenting QAOA for maxcut on noisy backend--Same as cell with noiseless simulation but replaced with optimized noist backend\n",
    "start_time=time.time()\n",
    "V=[0,1,2,3,4,5,6]  #Nodes of the graph\n",
    "E=[[0,1],[1,2],[1,2],[1,3],[0,3],[3,4],[1,4],[0,5],[3,5],[2,3],[3,0],[1,5],[0,4]] #Connections Of the graph\n",
    "dict={}\n",
    "a_values=np.linspace(0,2*np.pi,10)\n",
    "b_values=np.linspace(0,np.pi,10)\n",
    "for a in range(len(a_values)):\n",
    "    for b in range(len(b_values)):\n",
    "        noisy_simulation = transpile(QAOA(a_values[a],b_values[b]), backend, optimization_level=3)     #Optimising QAOA circuit\n",
    "        counts = execute(QAOA(a_values[a],b_values[b]), backend, shots=shots).result().get_counts()    #Executing on noisy simulator\n",
    "        final_state=max(counts,key=counts.get)\n",
    "        maxcut=cut(final_state)\n",
    "        dict[(a_values[a], b_values[b],final_state)] = maxcut\n",
    "        optimal_params = max(dict, key=lambda k: dict[k])\n",
    "        maximum = dict[optimal_params]\n",
    "end_time=time.time()\n",
    "time_taken=end_time-start_time\n",
    "print(\"Time taken for circuit with\",len(V),\"nodes:\",time_taken)\n",
    "print(\"Optimal Parameters and optimal state:\", optimal_params)\n",
    "print(\"Maximum Cut\", maximum)"
   ]
  }
 ],
 "metadata": {
  "kernelspec": {
   "display_name": "Python 3 (ipykernel)",
   "language": "python",
   "name": "python3"
  },
  "language_info": {
   "codemirror_mode": {
    "name": "ipython",
    "version": 3
   },
   "file_extension": ".py",
   "mimetype": "text/x-python",
   "name": "python",
   "nbconvert_exporter": "python",
   "pygments_lexer": "ipython3",
   "version": "3.9.13"
  }
 },
 "nbformat": 4,
 "nbformat_minor": 5
}
