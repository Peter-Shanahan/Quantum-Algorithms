{
 "cells": [
  {
   "cell_type": "code",
   "execution_count": 70,
   "id": "b89cbbca",
   "metadata": {},
   "outputs": [],
   "source": [
    "################### Deutch-Jozsa Algorithem###################\n",
    "\n",
    "import numpy as np\n",
    "import matplotlib.pyplot as plt\n",
    "from qiskit import *\n",
    "from qiskit_aer import AerSimulator\n",
    "n=5"
   ]
  },
  {
   "cell_type": "code",
   "execution_count": 79,
   "id": "6c783e14",
   "metadata": {},
   "outputs": [],
   "source": [
    "from qiskit.providers.fake_provider import FakeManilaV2\n",
    "backend = FakeManilaV2()    #Importing Fake Backend"
   ]
  },
  {
   "cell_type": "code",
   "execution_count": 74,
   "id": "1addc182",
   "metadata": {},
   "outputs": [],
   "source": [
    "\n",
    "def oracle_function(x):  #This is the Oracle for the funcion f(x)\n",
    "    if x=='constant':    #We must input weather the input function is constant\n",
    "        return(0)        #or balanced as we are the oracle\n",
    "    if x=='balanced':\n",
    "        return(1)\n"
   ]
  },
  {
   "cell_type": "code",
   "execution_count": 105,
   "id": "a631fbd9",
   "metadata": {},
   "outputs": [
    {
     "name": "stdout",
     "output_type": "stream",
     "text": [
      "{'0000': 10000}\n"
     ]
    },
    {
     "data": {
      "text/html": [
       "<pre style=\"word-wrap: normal;white-space: pre;background: #fff0;line-height: 1.1;font-family: &quot;Courier New&quot;,Courier,monospace\">     ┌───┐      ░  ░ ┌───┐┌─┐         \n",
       "q_0: ┤ H ├──────░──░─┤ H ├┤M├─────────\n",
       "     ├───┤      ░  ░ ├───┤└╥┘┌─┐      \n",
       "q_1: ┤ H ├──────░──░─┤ H ├─╫─┤M├──────\n",
       "     ├───┤      ░  ░ ├───┤ ║ └╥┘┌─┐   \n",
       "q_2: ┤ H ├──────░──░─┤ H ├─╫──╫─┤M├───\n",
       "     ├───┤      ░  ░ ├───┤ ║  ║ └╥┘┌─┐\n",
       "q_3: ┤ H ├──────░──░─┤ H ├─╫──╫──╫─┤M├\n",
       "     ├───┤┌───┐ ░  ░ └───┘ ║  ║  ║ └╥┘\n",
       "q_4: ┤ X ├┤ H ├─░──░───────╫──╫──╫──╫─\n",
       "     └───┘└───┘ ░  ░       ║  ║  ║  ║ \n",
       "c: 4/══════════════════════╩══╩══╩══╩═\n",
       "                           0  1  2  3 </pre>"
      ],
      "text/plain": [
       "     ┌───┐      ░  ░ ┌───┐┌─┐         \n",
       "q_0: ┤ H ├──────░──░─┤ H ├┤M├─────────\n",
       "     ├───┤      ░  ░ ├───┤└╥┘┌─┐      \n",
       "q_1: ┤ H ├──────░──░─┤ H ├─╫─┤M├──────\n",
       "     ├───┤      ░  ░ ├───┤ ║ └╥┘┌─┐   \n",
       "q_2: ┤ H ├──────░──░─┤ H ├─╫──╫─┤M├───\n",
       "     ├───┤      ░  ░ ├───┤ ║  ║ └╥┘┌─┐\n",
       "q_3: ┤ H ├──────░──░─┤ H ├─╫──╫──╫─┤M├\n",
       "     ├───┤┌───┐ ░  ░ └───┘ ║  ║  ║ └╥┘\n",
       "q_4: ┤ X ├┤ H ├─░──░───────╫──╫──╫──╫─\n",
       "     └───┘└───┘ ░  ░       ║  ║  ║  ║ \n",
       "c: 4/══════════════════════╩══╩══╩══╩═\n",
       "                           0  1  2  3 "
      ]
     },
     "execution_count": 105,
     "metadata": {},
     "output_type": "execute_result"
    }
   ],
   "source": [
    "################This is for a noiseless simulator############\n",
    "\n",
    "\n",
    "def circuit(n,f):         #Unitary gate for n qubit case with input function classification f\n",
    "    circuit=QuantumCircuit(n+1,n)\n",
    "    circuit.x(n)\n",
    "    for i in range(0,n+1):\n",
    "        circuit.h(i)\n",
    "    circuit.barrier()\n",
    "    ####Thhis is the implimentation of Uf############\n",
    "    if f==1:           #This reflects the output of oracle_function() being 1\n",
    "        circuit.x(0)   # and is such a balanced circuit\n",
    "        for i in range (0,n):\n",
    "            circuit.cx(i,n)\n",
    "        circuit.x(0)\n",
    "    else:\n",
    "         pass #This is for oracle_function()=0 this unitary of\n",
    "                #just CNOTs is created\n",
    "    circuit.barrier()\n",
    "    #################################################\n",
    "    \n",
    "    for i in range(0,n):      #Adding hadamards to the first n qubits to finish algorithem\n",
    "        circuit.h(i)\n",
    "        circuit.measure(i,i)  #Measuring out qubits onto adjacent classical bits\n",
    "    return(circuit)\n",
    "    \n",
    "#######################Type into following function weather you want to test a balanced or constant function################\n",
    "\n",
    "                                        #Below Here#\n",
    "final_circuit=circuit(n,oracle_function('balnced')) #Inputs are n and the oracle_function for a balanced function\n",
    "                                                     #As an example\n",
    "\n",
    "simulator = AerSimulator()        \n",
    "compiled_circuit = transpile(final_circuit, simulator)\n",
    "job = simulator.run(compiled_circuit, shots=10000)      #Running circuit 10000 times on Aer Simulator\n",
    "result = job.result()\n",
    "counts = result.get_counts(compiled_circuit)    #Retrieving results\n",
    "print(counts)\n",
    "final_circuit.draw()"
   ]
  },
  {
   "cell_type": "code",
   "execution_count": 108,
   "id": "c0459444",
   "metadata": {},
   "outputs": [
    {
     "name": "stdout",
     "output_type": "stream",
     "text": [
      "{'0110': 23, '1111': 6204, '1011': 1974, '1110': 330, '0111': 565, '1101': 270, '1001': 71, '0011': 346, '0001': 46, '1010': 79, '1100': 23, '0100': 3, '0010': 33, '0101': 25, '0000': 5, '1000': 3}\n",
      "Fraction of incorrect outcomes 0.0005\n"
     ]
    },
    {
     "data": {
      "text/html": [
       "<pre style=\"word-wrap: normal;white-space: pre;background: #fff0;line-height: 1.1;font-family: &quot;Courier New&quot;,Courier,monospace\">     ┌───┐┌───┐     ┌───┐     ┌─┐                   \n",
       "q_0: ┤ H ├┤ X ├──■──┤ H ├─────┤M├───────────────────\n",
       "     ├───┤└───┘  │  └───┘┌───┐└╥┘     ┌─┐           \n",
       "q_1: ┤ H ├───────┼────■──┤ H ├─╫──────┤M├───────────\n",
       "     ├───┤       │    │  └───┘ ║ ┌───┐└╥┘     ┌─┐   \n",
       "q_2: ┤ H ├───────┼────┼────■───╫─┤ H ├─╫──────┤M├───\n",
       "     ├───┤       │    │    │   ║ └───┘ ║ ┌───┐└╥┘┌─┐\n",
       "q_3: ┤ H ├───────┼────┼────┼───╫───■───╫─┤ H ├─╫─┤M├\n",
       "     ├───┤┌───┐┌─┴─┐┌─┴─┐┌─┴─┐ ║ ┌─┴─┐ ║ └───┘ ║ └╥┘\n",
       "q_4: ┤ X ├┤ H ├┤ X ├┤ X ├┤ X ├─╫─┤ X ├─╫───────╫──╫─\n",
       "     └───┘└───┘└───┘└───┘└───┘ ║ └───┘ ║       ║  ║ \n",
       "c: 4/══════════════════════════╩═══════╩═══════╩══╩═\n",
       "                               0       1       2  3 </pre>"
      ],
      "text/plain": [
       "     ┌───┐┌───┐     ┌───┐     ┌─┐                   \n",
       "q_0: ┤ H ├┤ X ├──■──┤ H ├─────┤M├───────────────────\n",
       "     ├───┤└───┘  │  └───┘┌───┐└╥┘     ┌─┐           \n",
       "q_1: ┤ H ├───────┼────■──┤ H ├─╫──────┤M├───────────\n",
       "     ├───┤       │    │  └───┘ ║ ┌───┐└╥┘     ┌─┐   \n",
       "q_2: ┤ H ├───────┼────┼────■───╫─┤ H ├─╫──────┤M├───\n",
       "     ├───┤       │    │    │   ║ └───┘ ║ ┌───┐└╥┘┌─┐\n",
       "q_3: ┤ H ├───────┼────┼────┼───╫───■───╫─┤ H ├─╫─┤M├\n",
       "     ├───┤┌───┐┌─┴─┐┌─┴─┐┌─┴─┐ ║ ┌─┴─┐ ║ └───┘ ║ └╥┘\n",
       "q_4: ┤ X ├┤ H ├┤ X ├┤ X ├┤ X ├─╫─┤ X ├─╫───────╫──╫─\n",
       "     └───┘└───┘└───┘└───┘└───┘ ║ └───┘ ║       ║  ║ \n",
       "c: 4/══════════════════════════╩═══════╩═══════╩══╩═\n",
       "                               0       1       2  3 "
      ]
     },
     "execution_count": 108,
     "metadata": {},
     "output_type": "execute_result"
    }
   ],
   "source": [
    "#############This is for a noisy simulator################\n",
    "\n",
    "\n",
    "def circuit(n,f):         #Unitary gate for n qubit case with input function classification f\n",
    "    circuit=QuantumCircuit(n+1,n)\n",
    "    circuit.x(n)\n",
    "    for i in range(0,n+1):\n",
    "        circuit.h(i)\n",
    "    ####Thhis is the implimentation of Uf############\n",
    "    if f==1:           #This reflects the output of oracle_function() being 1\n",
    "        circuit.x(0)   # and is such a balanced circuit\n",
    "        for i in range (0,n):\n",
    "            circuit.cx(i,n)\n",
    "    else:\n",
    "         pass #This is for oracle_function()=0 this unitary of\n",
    "                #just CNOTs is created\n",
    "    \n",
    "    #################################################\n",
    "    \n",
    "    for i in range(0,n):      #Adding hadamards to the first n qubits to finish algorithem\n",
    "        circuit.h(i)\n",
    "    for i in range(0,n):\n",
    "        circuit.measure(i,i)  #Measuring out qubits onto adjacent classical bits\n",
    "    return(circuit)\n",
    "    \n",
    "   \n",
    "\n",
    "\n",
    "final_circuit=circuit(n,oracle_function('balanced')) #Inputs are n and the oracle_function for a balanced function\n",
    "                                                     #As an example\n",
    "\n",
    "simulator = AerSimulator()        \n",
    "compiled_circuit = transpile(final_circuit, backend)\n",
    "job = backend.run(compiled_circuit, shots=10000)      #Running circuit 10000 times on Aer Simulator\n",
    "result = job.result()\n",
    "counts = result.get_counts(compiled_circuit)    #Retrieving results\n",
    "print(counts)\n",
    "print(\"Fraction of incorrect outcomes\",counts['0000']/10000)\n",
    "final_circuit.draw()\n"
   ]
  },
  {
   "cell_type": "code",
   "execution_count": null,
   "id": "ba3183de",
   "metadata": {},
   "outputs": [],
   "source": []
  }
 ],
 "metadata": {
  "kernelspec": {
   "display_name": "Python 3 (ipykernel)",
   "language": "python",
   "name": "python3"
  },
  "language_info": {
   "codemirror_mode": {
    "name": "ipython",
    "version": 3
   },
   "file_extension": ".py",
   "mimetype": "text/x-python",
   "name": "python",
   "nbconvert_exporter": "python",
   "pygments_lexer": "ipython3",
   "version": "3.9.13"
  }
 },
 "nbformat": 4,
 "nbformat_minor": 5
}
