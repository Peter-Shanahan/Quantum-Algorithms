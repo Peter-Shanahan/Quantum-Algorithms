{
 "cells": [
  {
   "cell_type": "markdown",
   "id": "0d773f9d",
   "metadata": {},
   "source": [
    "##############ReadMe\n",
    "The circuit simulator is implimented in the simulate() function but calls on outside functions for creating the matricies for the gates. These functions are sing_gate() and CNOT(). The QASM file was read differently to the simulator comparison file in that each line of instructions was placed into a list and then this list was iterated through to find gates needed."
   ]
  },
  {
   "cell_type": "code",
   "execution_count": 2,
   "id": "2881302c",
   "metadata": {},
   "outputs": [],
   "source": [
    "import numpy as np\n",
    "import matplotlib.pyplot as plt \n",
    "from qutip import *\n",
    "import re\n",
    "from qiskit import *\n",
    "from qiskit_aer import AerSimulator\n",
    "from qiskit.visualization import plot_histogram"
   ]
  },
  {
   "cell_type": "code",
   "execution_count": 3,
   "id": "f64a3b9f",
   "metadata": {},
   "outputs": [
    {
     "name": "stdout",
     "output_type": "stream",
     "text": [
      "[[ 0.70710678  0.        ]\n",
      " [ 0.         -0.70710678]]\n"
     ]
    }
   ],
   "source": [
    "#####Creating gates defined in files\n",
    "I=[[1,0],[0,1]]\n",
    "h=[[1/np.sqrt(2),1/np.sqrt(2)],[1/np.sqrt(2),-1/np.sqrt(2)]]\n",
    "x=[[0,1],[1,0]]\n",
    "t=[[1,0],[0,np.exp(np.pi*1j/4)]]\n",
    "tdg=[[1,0],[0,np.exp(-np.pi*1j/4)]]\n",
    "zero=[[1,0],[0,0]]\n",
    "one=[[0,0],[0,1]]\n",
    "print(np.multiply(h,I))"
   ]
  },
  {
   "cell_type": "code",
   "execution_count": 4,
   "id": "c349f90a",
   "metadata": {},
   "outputs": [
    {
     "name": "stdout",
     "output_type": "stream",
     "text": [
      "[[0, 1], [1, 0]]\n"
     ]
    }
   ],
   "source": [
    "########Function to create matrix for each gate \n",
    "\n",
    "def sing_gate(K,l,N):       #Function creates matrix to represent single qubit gate K in index l in N qubit register\n",
    "    master_list=[0]*N\n",
    "    for i in range(len(master_list)):\n",
    "        master_list[i]=I\n",
    "    master_list[l]=K\n",
    "    Matrix=master_list[0]\n",
    "    for i in range(1,N):\n",
    "        Matrix=np.kron(Matrix,master_list[i])\n",
    "    return(Matrix)\n",
    "print(sing_gate(x,0,1))"
   ]
  },
  {
   "cell_type": "code",
   "execution_count": 5,
   "id": "a7ed8c2f",
   "metadata": {},
   "outputs": [
    {
     "name": "stdout",
     "output_type": "stream",
     "text": [
      "[[1 0 0 0]\n",
      " [0 1 0 0]\n",
      " [0 0 0 1]\n",
      " [0 0 1 0]]\n"
     ]
    }
   ],
   "source": [
    "######Separate Method for CNOT\n",
    "\n",
    "def CNOT(c,t,N):       #Function creates matrix to represent CNOT with control index c and target index c in register of length N\n",
    "    master_list1=[0]*N\n",
    "    for i in range(len(master_list1)):\n",
    "        master_list1[i]=I\n",
    "    master_list1[c]=zero\n",
    "    master_list2=[0]*N\n",
    "    for i in range(len(master_list2)):\n",
    "        master_list2[i]=I\n",
    "    master_list2[c]=one\n",
    "    master_list2[t]=x\n",
    "    Matrix1=master_list1[0]\n",
    "    for i in range(1,N):\n",
    "        Matrix1=np.kron(Matrix1,master_list1[i])\n",
    "    Matrix2=master_list2[0]\n",
    "    for i in range(1,N):\n",
    "        Matrix2=np.kron(Matrix2,master_list2[i])\n",
    "    return(Matrix1+Matrix2)\n",
    "print(CNOT(0,1,2))"
   ]
  },
  {
   "cell_type": "code",
   "execution_count": 6,
   "id": "87b9cdb1",
   "metadata": {},
   "outputs": [],
   "source": [
    "file_path = r'C:\\Users\\35386\\Downloads\\decod24-v2_43.qasm'\n",
    "with open(file_path, 'r') as file:\n",
    "    instructions = file.readlines()\n"
   ]
  },
  {
   "cell_type": "code",
   "execution_count": 7,
   "id": "6176e01b",
   "metadata": {},
   "outputs": [],
   "source": [
    "qasm_lines = instructions  #####This creats a list where each entry is a string of the qasm line"
   ]
  },
  {
   "cell_type": "code",
   "execution_count": 8,
   "id": "8a262260",
   "metadata": {},
   "outputs": [],
   "source": [
    "def simulate(qasm_lines): ######Simulation function\n",
    "    Matricies=[]\n",
    "    N_list=[]\n",
    "    for i in qasm_lines:  #Finding number of qubits actually used for simulation and setting N as that to speed up runtime\n",
    "        if i.startswith(\"h\") or i.startswith(\"x\") or i.startswith(\"t \") or i.startswith(\"tdg\") or i.startswith(\"cx\"):\n",
    "            N_list.append(int(re.findall(r'\\d+',i)[0]))\n",
    "        if i.startswith(\"cx\"):\n",
    "            N_list.append(int(re.findall(r'\\d+',i)[1]))\n",
    "    N=max(N_list)+1\n",
    "    for i in qasm_lines:    ## Reading instructiond from file and then creating matrix for each gate\n",
    "        if i.startswith(\"creg\"):\n",
    "            n=int(re.findall(r'\\d+',i)[0])##########Number of classical bits\n",
    "        if i.startswith(\"h\"):\n",
    "            l=int(re.findall(r'\\d+',i)[0])\n",
    "            Matricies.append(sing_gate(h,l,N))\n",
    "        if i.startswith(\"x\"):\n",
    "            l=int(re.findall(r'\\d+',i)[0])\n",
    "            Matricies.append(sing_gate(x,l,N))\n",
    "        if i.startswith(\"t \"):\n",
    "            l=int(re.findall(r'\\d+',i)[0])\n",
    "            Matricies.append(sing_gate(t,l,N))\n",
    "        if i.startswith(\"tdg\"):\n",
    "            l=int(re.findall(r'\\d+',i)[0])\n",
    "            Matricies.append(sing_gate(tdg,l,N))\n",
    "        if i.startswith(\"cx\"):\n",
    "            c=int(re.findall(r'\\d+',i)[0])\n",
    "            tar=int(re.findall(r'\\d+',i)[1])\n",
    "            Matricies.append(CNOT(c,tar,N))\n",
    "    Matricies = [array.tolist() for array in Matricies]\n",
    "    \n",
    "    Zero=[[1],[0]]\n",
    "    One=[[0],[1]]\n",
    "    #print(N)\n",
    "    #####Creating input state od |000...>\n",
    "    input_state=Zero\n",
    "    for i in range(1,N):\n",
    "        input_state=np.kron(input_state,Zero)\n",
    "\n",
    "    #Passing input state through each gate\n",
    "    new_state=input_state\n",
    "    for i in range(len(Matricies)):\n",
    "        new_state=np.matmul(Matricies[i],new_state)\n",
    "    #Getting rid of rounding errors\n",
    "    for i in range(len(new_state)):\n",
    "        new_state[i]=np.round(new_state[i],4)\n",
    "    new_state=np.transpose(new_state)\n",
    "    return(new_state)\n",
    "    #print(new_state)"
   ]
  },
  {
   "cell_type": "code",
   "execution_count": 9,
   "id": "26d80b29",
   "metadata": {},
   "outputs": [
    {
     "name": "stdout",
     "output_type": "stream",
     "text": [
      "[[ 0.+0.j  1.+0.j  0.+0.j  0.+0.j  0.+0.j  0.+0.j  0.+0.j  0.+0.j  0.+0.j\n",
      "  -0.+0.j  0.+0.j  0.+0.j  0.+0.j  0.+0.j -0.+0.j  0.+0.j]]\n"
     ]
    }
   ],
   "source": [
    "print(simulate(qasm_lines))  ##Output statevector of decod24-v2_43 confirms validity"
   ]
  },
  {
   "cell_type": "code",
   "execution_count": 10,
   "id": "6033b327",
   "metadata": {},
   "outputs": [
    {
     "name": "stdout",
     "output_type": "stream",
     "text": [
      "Requirement already satisfied: cirq in c:\\users\\35386\\anaconda3\\lib\\site-packages (1.3.0)\n",
      "Requirement already satisfied: cirq-web==1.3.0 in c:\\users\\35386\\anaconda3\\lib\\site-packages (from cirq) (1.3.0)\n",
      "Requirement already satisfied: cirq-ionq==1.3.0 in c:\\users\\35386\\anaconda3\\lib\\site-packages (from cirq) (1.3.0)\n",
      "Requirement already satisfied: cirq-rigetti==1.3.0 in c:\\users\\35386\\anaconda3\\lib\\site-packages (from cirq) (1.3.0)\n",
      "Requirement already satisfied: cirq-pasqal==1.3.0 in c:\\users\\35386\\anaconda3\\lib\\site-packages (from cirq) (1.3.0)\n",
      "Requirement already satisfied: cirq-core==1.3.0 in c:\\users\\35386\\anaconda3\\lib\\site-packages (from cirq) (1.3.0)\n",
      "Requirement already satisfied: cirq-ft==1.3.0 in c:\\users\\35386\\anaconda3\\lib\\site-packages (from cirq) (1.3.0)\n",
      "Requirement already satisfied: cirq-google==1.3.0 in c:\\users\\35386\\anaconda3\\lib\\site-packages (from cirq) (1.3.0)\n",
      "Requirement already satisfied: cirq-aqt==1.3.0 in c:\\users\\35386\\anaconda3\\lib\\site-packages (from cirq) (1.3.0)\n",
      "Requirement already satisfied: requests~=2.18 in c:\\users\\35386\\anaconda3\\lib\\site-packages (from cirq-aqt==1.3.0->cirq) (2.27.1)\n",
      "Requirement already satisfied: sympy in c:\\users\\35386\\anaconda3\\lib\\site-packages (from cirq-core==1.3.0->cirq) (1.11.1)\n",
      "Requirement already satisfied: matplotlib~=3.0 in c:\\users\\35386\\anaconda3\\lib\\site-packages (from cirq-core==1.3.0->cirq) (3.7.1)\n",
      "Requirement already satisfied: numpy~=1.16 in c:\\users\\35386\\anaconda3\\lib\\site-packages (from cirq-core==1.3.0->cirq) (1.23.5)\n",
      "Requirement already satisfied: networkx>=2.4 in c:\\users\\35386\\anaconda3\\lib\\site-packages (from cirq-core==1.3.0->cirq) (2.8.4)\n",
      "Requirement already satisfied: duet~=0.2.8 in c:\\users\\35386\\anaconda3\\lib\\site-packages (from cirq-core==1.3.0->cirq) (0.2.9)\n",
      "Requirement already satisfied: scipy in c:\\users\\35386\\anaconda3\\lib\\site-packages (from cirq-core==1.3.0->cirq) (1.10.1)\n",
      "Requirement already satisfied: typing-extensions>=4.2 in c:\\users\\35386\\anaconda3\\lib\\site-packages (from cirq-core==1.3.0->cirq) (4.3.0)\n",
      "Requirement already satisfied: tqdm in c:\\users\\35386\\anaconda3\\lib\\site-packages (from cirq-core==1.3.0->cirq) (4.64.1)\n",
      "Requirement already satisfied: sortedcontainers~=2.0 in c:\\users\\35386\\anaconda3\\lib\\site-packages (from cirq-core==1.3.0->cirq) (2.4.0)\n",
      "Requirement already satisfied: pandas in c:\\users\\35386\\anaconda3\\lib\\site-packages (from cirq-core==1.3.0->cirq) (1.4.4)\n",
      "Requirement already satisfied: cachetools>=5.3 in c:\\users\\35386\\anaconda3\\lib\\site-packages (from cirq-ft==1.3.0->cirq) (5.3.2)\n",
      "Requirement already satisfied: attrs in c:\\users\\35386\\anaconda3\\lib\\site-packages (from cirq-ft==1.3.0->cirq) (21.4.0)\n",
      "Requirement already satisfied: nbformat in c:\\users\\35386\\anaconda3\\lib\\site-packages (from cirq-ft==1.3.0->cirq) (5.5.0)\n",
      "Requirement already satisfied: ipywidgets in c:\\users\\35386\\anaconda3\\lib\\site-packages (from cirq-ft==1.3.0->cirq) (7.6.5)\n",
      "Requirement already satisfied: nbconvert in c:\\users\\35386\\anaconda3\\lib\\site-packages (from cirq-ft==1.3.0->cirq) (6.4.4)\n",
      "Requirement already satisfied: protobuf>=3.15.0 in c:\\users\\35386\\anaconda3\\lib\\site-packages (from cirq-google==1.3.0->cirq) (4.25.1)\n",
      "Requirement already satisfied: proto-plus>=1.20.0 in c:\\users\\35386\\anaconda3\\lib\\site-packages (from cirq-google==1.3.0->cirq) (1.22.3)\n",
      "Requirement already satisfied: google-api-core[grpc]>=1.14.0 in c:\\users\\35386\\anaconda3\\lib\\site-packages (from cirq-google==1.3.0->cirq) (2.14.0)\n",
      "Requirement already satisfied: pyquil<4.0.0,>=3.2.0 in c:\\users\\35386\\anaconda3\\lib\\site-packages (from cirq-rigetti==1.3.0->cirq) (3.5.4)\n",
      "Requirement already satisfied: google-auth<3.0.dev0,>=2.14.1 in c:\\users\\35386\\anaconda3\\lib\\site-packages (from google-api-core[grpc]>=1.14.0->cirq-google==1.3.0->cirq) (2.25.1)\n",
      "Requirement already satisfied: googleapis-common-protos<2.0.dev0,>=1.56.2 in c:\\users\\35386\\anaconda3\\lib\\site-packages (from google-api-core[grpc]>=1.14.0->cirq-google==1.3.0->cirq) (1.61.0)\n",
      "Requirement already satisfied: grpcio<2.0dev,>=1.33.2 in c:\\users\\35386\\anaconda3\\lib\\site-packages (from google-api-core[grpc]>=1.14.0->cirq-google==1.3.0->cirq) (1.59.3)\n",
      "Requirement already satisfied: grpcio-status<2.0.dev0,>=1.33.2 in c:\\users\\35386\\anaconda3\\lib\\site-packages (from google-api-core[grpc]>=1.14.0->cirq-google==1.3.0->cirq) (1.59.3)\n",
      "Requirement already satisfied: kiwisolver>=1.0.1 in c:\\users\\35386\\anaconda3\\lib\\site-packages (from matplotlib~=3.0->cirq-core==1.3.0->cirq) (1.4.2)\n",
      "Requirement already satisfied: fonttools>=4.22.0 in c:\\users\\35386\\anaconda3\\lib\\site-packages (from matplotlib~=3.0->cirq-core==1.3.0->cirq) (4.25.0)\n",
      "Requirement already satisfied: packaging>=20.0 in c:\\users\\35386\\anaconda3\\lib\\site-packages (from matplotlib~=3.0->cirq-core==1.3.0->cirq) (22.0)\n",
      "Requirement already satisfied: pillow>=6.2.0 in c:\\users\\35386\\anaconda3\\lib\\site-packages (from matplotlib~=3.0->cirq-core==1.3.0->cirq) (9.2.0)\n",
      "Requirement already satisfied: cycler>=0.10 in c:\\users\\35386\\anaconda3\\lib\\site-packages (from matplotlib~=3.0->cirq-core==1.3.0->cirq) (0.11.0)\n",
      "Requirement already satisfied: pyparsing>=2.3.1 in c:\\users\\35386\\anaconda3\\lib\\site-packages (from matplotlib~=3.0->cirq-core==1.3.0->cirq) (3.0.9)\n",
      "Requirement already satisfied: importlib-resources>=3.2.0 in c:\\users\\35386\\anaconda3\\lib\\site-packages (from matplotlib~=3.0->cirq-core==1.3.0->cirq) (5.12.0)\n",
      "Requirement already satisfied: python-dateutil>=2.7 in c:\\users\\35386\\anaconda3\\lib\\site-packages (from matplotlib~=3.0->cirq-core==1.3.0->cirq) (2.8.2)\n",
      "Requirement already satisfied: contourpy>=1.0.1 in c:\\users\\35386\\anaconda3\\lib\\site-packages (from matplotlib~=3.0->cirq-core==1.3.0->cirq) (1.0.7)\n",
      "Requirement already satisfied: types-retry<0.10.0,>=0.9.9 in c:\\users\\35386\\anaconda3\\lib\\site-packages (from pyquil<4.0.0,>=3.2.0->cirq-rigetti==1.3.0->cirq) (0.9.9.4)\n",
      "Requirement already satisfied: rpcq<4.0.0,>=3.10.0 in c:\\users\\35386\\anaconda3\\lib\\site-packages (from pyquil<4.0.0,>=3.2.0->cirq-rigetti==1.3.0->cirq) (3.11.0)\n",
      "Requirement already satisfied: lark<0.12.0,>=0.11.1 in c:\\users\\35386\\anaconda3\\lib\\site-packages (from pyquil<4.0.0,>=3.2.0->cirq-rigetti==1.3.0->cirq) (0.11.3)\n",
      "Requirement already satisfied: tenacity<9.0.0,>=8.2.2 in c:\\users\\35386\\anaconda3\\lib\\site-packages (from pyquil<4.0.0,>=3.2.0->cirq-rigetti==1.3.0->cirq) (8.2.2)\n",
      "Requirement already satisfied: types-deprecated<2.0.0.0,>=1.2.9.2 in c:\\users\\35386\\anaconda3\\lib\\site-packages (from pyquil<4.0.0,>=3.2.0->cirq-rigetti==1.3.0->cirq) (1.2.9.3)\n",
      "Requirement already satisfied: qcs-api-client<0.22.0,>=0.21.0 in c:\\users\\35386\\anaconda3\\lib\\site-packages (from pyquil<4.0.0,>=3.2.0->cirq-rigetti==1.3.0->cirq) (0.21.6)\n",
      "Requirement already satisfied: deprecated<2.0.0,>=1.2.13 in c:\\users\\35386\\anaconda3\\lib\\site-packages (from pyquil<4.0.0,>=3.2.0->cirq-rigetti==1.3.0->cirq) (1.2.14)\n",
      "Requirement already satisfied: types-python-dateutil<3.0.0,>=2.8.19 in c:\\users\\35386\\anaconda3\\lib\\site-packages (from pyquil<4.0.0,>=3.2.0->cirq-rigetti==1.3.0->cirq) (2.8.19.14)\n",
      "Requirement already satisfied: charset-normalizer~=2.0.0 in c:\\users\\35386\\anaconda3\\lib\\site-packages (from requests~=2.18->cirq-aqt==1.3.0->cirq) (2.0.4)\n",
      "Requirement already satisfied: urllib3<1.27,>=1.21.1 in c:\\users\\35386\\anaconda3\\lib\\site-packages (from requests~=2.18->cirq-aqt==1.3.0->cirq) (1.26.11)\n",
      "Requirement already satisfied: certifi>=2017.4.17 in c:\\users\\35386\\anaconda3\\lib\\site-packages (from requests~=2.18->cirq-aqt==1.3.0->cirq) (2022.9.14)\n",
      "Requirement already satisfied: idna<4,>=2.5 in c:\\users\\35386\\anaconda3\\lib\\site-packages (from requests~=2.18->cirq-aqt==1.3.0->cirq) (3.3)\n",
      "Requirement already satisfied: jupyterlab-widgets>=1.0.0 in c:\\users\\35386\\anaconda3\\lib\\site-packages (from ipywidgets->cirq-ft==1.3.0->cirq) (1.0.0)\n",
      "Requirement already satisfied: widgetsnbextension~=3.5.0 in c:\\users\\35386\\anaconda3\\lib\\site-packages (from ipywidgets->cirq-ft==1.3.0->cirq) (3.5.2)\n",
      "Requirement already satisfied: ipykernel>=4.5.1 in c:\\users\\35386\\anaconda3\\lib\\site-packages (from ipywidgets->cirq-ft==1.3.0->cirq) (6.15.2)\n",
      "Requirement already satisfied: traitlets>=4.3.1 in c:\\users\\35386\\anaconda3\\lib\\site-packages (from ipywidgets->cirq-ft==1.3.0->cirq) (5.1.1)\n",
      "Requirement already satisfied: ipython>=4.0.0 in c:\\users\\35386\\anaconda3\\lib\\site-packages (from ipywidgets->cirq-ft==1.3.0->cirq) (7.31.1)\n",
      "Requirement already satisfied: ipython-genutils~=0.2.0 in c:\\users\\35386\\anaconda3\\lib\\site-packages (from ipywidgets->cirq-ft==1.3.0->cirq) (0.2.0)\n",
      "Requirement already satisfied: fastjsonschema in c:\\users\\35386\\anaconda3\\lib\\site-packages (from nbformat->cirq-ft==1.3.0->cirq) (2.16.2)\n",
      "Requirement already satisfied: jupyter_core in c:\\users\\35386\\anaconda3\\lib\\site-packages (from nbformat->cirq-ft==1.3.0->cirq) (4.11.1)\n",
      "Requirement already satisfied: jsonschema>=2.6 in c:\\users\\35386\\anaconda3\\lib\\site-packages (from nbformat->cirq-ft==1.3.0->cirq) (4.17.3)\n",
      "Requirement already satisfied: entrypoints>=0.2.2 in c:\\users\\35386\\anaconda3\\lib\\site-packages (from nbconvert->cirq-ft==1.3.0->cirq) (0.4)\n",
      "Requirement already satisfied: nbclient<0.6.0,>=0.5.0 in c:\\users\\35386\\anaconda3\\lib\\site-packages (from nbconvert->cirq-ft==1.3.0->cirq) (0.5.13)\n",
      "Requirement already satisfied: testpath in c:\\users\\35386\\anaconda3\\lib\\site-packages (from nbconvert->cirq-ft==1.3.0->cirq) (0.6.0)\n",
      "Requirement already satisfied: pygments>=2.4.1 in c:\\users\\35386\\anaconda3\\lib\\site-packages (from nbconvert->cirq-ft==1.3.0->cirq) (2.11.2)\n",
      "Requirement already satisfied: defusedxml in c:\\users\\35386\\anaconda3\\lib\\site-packages (from nbconvert->cirq-ft==1.3.0->cirq) (0.7.1)\n",
      "Requirement already satisfied: jupyterlab-pygments in c:\\users\\35386\\anaconda3\\lib\\site-packages (from nbconvert->cirq-ft==1.3.0->cirq) (0.1.2)\n",
      "Requirement already satisfied: bleach in c:\\users\\35386\\anaconda3\\lib\\site-packages (from nbconvert->cirq-ft==1.3.0->cirq) (4.1.0)\n",
      "Requirement already satisfied: pandocfilters>=1.4.1 in c:\\users\\35386\\anaconda3\\lib\\site-packages (from nbconvert->cirq-ft==1.3.0->cirq) (1.5.0)\n",
      "Requirement already satisfied: beautifulsoup4 in c:\\users\\35386\\anaconda3\\lib\\site-packages (from nbconvert->cirq-ft==1.3.0->cirq) (4.11.1)\n",
      "Requirement already satisfied: jinja2>=2.4 in c:\\users\\35386\\anaconda3\\lib\\site-packages (from nbconvert->cirq-ft==1.3.0->cirq) (2.11.3)\n",
      "Requirement already satisfied: mistune<2,>=0.8.1 in c:\\users\\35386\\anaconda3\\lib\\site-packages (from nbconvert->cirq-ft==1.3.0->cirq) (0.8.4)\n",
      "Requirement already satisfied: pytz>=2020.1 in c:\\users\\35386\\anaconda3\\lib\\site-packages (from pandas->cirq-core==1.3.0->cirq) (2020.5)\n",
      "Requirement already satisfied: mpmath>=0.19 in c:\\users\\35386\\anaconda3\\lib\\site-packages (from sympy->cirq-core==1.3.0->cirq) (1.2.1)\n",
      "Requirement already satisfied: colorama in c:\\users\\35386\\anaconda3\\lib\\site-packages (from tqdm->cirq-core==1.3.0->cirq) (0.4.5)\n",
      "Requirement already satisfied: wrapt<2,>=1.10 in c:\\users\\35386\\anaconda3\\lib\\site-packages (from deprecated<2.0.0,>=1.2.13->pyquil<4.0.0,>=3.2.0->cirq-rigetti==1.3.0->cirq) (1.14.1)\n",
      "Requirement already satisfied: rsa<5,>=3.1.4 in c:\\users\\35386\\anaconda3\\lib\\site-packages (from google-auth<3.0.dev0,>=2.14.1->google-api-core[grpc]>=1.14.0->cirq-google==1.3.0->cirq) (4.9)\n",
      "Requirement already satisfied: pyasn1-modules>=0.2.1 in c:\\users\\35386\\anaconda3\\lib\\site-packages (from google-auth<3.0.dev0,>=2.14.1->google-api-core[grpc]>=1.14.0->cirq-google==1.3.0->cirq) (0.2.8)\n",
      "Requirement already satisfied: zipp>=3.1.0 in c:\\users\\35386\\anaconda3\\lib\\site-packages (from importlib-resources>=3.2.0->matplotlib~=3.0->cirq-core==1.3.0->cirq) (3.8.0)\n",
      "Requirement already satisfied: psutil in c:\\users\\35386\\anaconda3\\lib\\site-packages (from ipykernel>=4.5.1->ipywidgets->cirq-ft==1.3.0->cirq) (5.9.0)\n",
      "Requirement already satisfied: jupyter-client>=6.1.12 in c:\\users\\35386\\anaconda3\\lib\\site-packages (from ipykernel>=4.5.1->ipywidgets->cirq-ft==1.3.0->cirq) (7.3.4)\n",
      "Requirement already satisfied: matplotlib-inline>=0.1 in c:\\users\\35386\\anaconda3\\lib\\site-packages (from ipykernel>=4.5.1->ipywidgets->cirq-ft==1.3.0->cirq) (0.1.6)\n",
      "Requirement already satisfied: nest-asyncio in c:\\users\\35386\\anaconda3\\lib\\site-packages (from ipykernel>=4.5.1->ipywidgets->cirq-ft==1.3.0->cirq) (1.5.5)\n",
      "Requirement already satisfied: tornado>=6.1 in c:\\users\\35386\\anaconda3\\lib\\site-packages (from ipykernel>=4.5.1->ipywidgets->cirq-ft==1.3.0->cirq) (6.1)\n",
      "Requirement already satisfied: debugpy>=1.0 in c:\\users\\35386\\anaconda3\\lib\\site-packages (from ipykernel>=4.5.1->ipywidgets->cirq-ft==1.3.0->cirq) (1.5.1)\n",
      "Requirement already satisfied: pyzmq>=17 in c:\\users\\35386\\anaconda3\\lib\\site-packages (from ipykernel>=4.5.1->ipywidgets->cirq-ft==1.3.0->cirq) (23.2.0)\n",
      "Requirement already satisfied: decorator in c:\\users\\35386\\anaconda3\\lib\\site-packages (from ipython>=4.0.0->ipywidgets->cirq-ft==1.3.0->cirq) (5.1.1)\n",
      "Requirement already satisfied: prompt-toolkit!=3.0.0,!=3.0.1,<3.1.0,>=2.0.0 in c:\\users\\35386\\anaconda3\\lib\\site-packages (from ipython>=4.0.0->ipywidgets->cirq-ft==1.3.0->cirq) (3.0.20)\n",
      "Requirement already satisfied: setuptools>=18.5 in c:\\users\\35386\\anaconda3\\lib\\site-packages (from ipython>=4.0.0->ipywidgets->cirq-ft==1.3.0->cirq) (67.7.0)\n",
      "Requirement already satisfied: jedi>=0.16 in c:\\users\\35386\\anaconda3\\lib\\site-packages (from ipython>=4.0.0->ipywidgets->cirq-ft==1.3.0->cirq) (0.18.1)\n",
      "Requirement already satisfied: pickleshare in c:\\users\\35386\\anaconda3\\lib\\site-packages (from ipython>=4.0.0->ipywidgets->cirq-ft==1.3.0->cirq) (0.7.5)\n",
      "Requirement already satisfied: backcall in c:\\users\\35386\\anaconda3\\lib\\site-packages (from ipython>=4.0.0->ipywidgets->cirq-ft==1.3.0->cirq) (0.2.0)\n",
      "Requirement already satisfied: MarkupSafe>=0.23 in c:\\users\\35386\\anaconda3\\lib\\site-packages (from jinja2>=2.4->nbconvert->cirq-ft==1.3.0->cirq) (2.0.1)\n",
      "Requirement already satisfied: pyrsistent!=0.17.0,!=0.17.1,!=0.17.2,>=0.14.0 in c:\\users\\35386\\anaconda3\\lib\\site-packages (from jsonschema>=2.6->nbformat->cirq-ft==1.3.0->cirq) (0.18.0)\n",
      "Requirement already satisfied: six>=1.5 in c:\\users\\35386\\anaconda3\\lib\\site-packages (from python-dateutil>=2.7->matplotlib~=3.0->cirq-core==1.3.0->cirq) (1.16.0)\n",
      "Requirement already satisfied: rfc3339<7.0,>=6.2 in c:\\users\\35386\\anaconda3\\lib\\site-packages (from qcs-api-client<0.22.0,>=0.21.0->pyquil<4.0.0,>=3.2.0->cirq-rigetti==1.3.0->cirq) (6.2)\n",
      "Requirement already satisfied: pydantic<2.0.0,>=1.7.2 in c:\\users\\35386\\anaconda3\\lib\\site-packages (from qcs-api-client<0.22.0,>=0.21.0->pyquil<4.0.0,>=3.2.0->cirq-rigetti==1.3.0->cirq) (1.10.13)\n",
      "Requirement already satisfied: toml<0.11.0,>=0.10.2 in c:\\users\\35386\\anaconda3\\lib\\site-packages (from qcs-api-client<0.22.0,>=0.21.0->pyquil<4.0.0,>=3.2.0->cirq-rigetti==1.3.0->cirq) (0.10.2)\n",
      "Requirement already satisfied: retrying<2.0.0,>=1.3.3 in c:\\users\\35386\\anaconda3\\lib\\site-packages (from qcs-api-client<0.22.0,>=0.21.0->pyquil<4.0.0,>=3.2.0->cirq-rigetti==1.3.0->cirq) (1.3.4)\n",
      "Requirement already satisfied: iso8601<2.0.0,>=1.0.2 in c:\\users\\35386\\anaconda3\\lib\\site-packages (from qcs-api-client<0.22.0,>=0.21.0->pyquil<4.0.0,>=3.2.0->cirq-rigetti==1.3.0->cirq) (1.1.0)\n",
      "Requirement already satisfied: httpx<0.24.0,>=0.23.0 in c:\\users\\35386\\anaconda3\\lib\\site-packages (from qcs-api-client<0.22.0,>=0.21.0->pyquil<4.0.0,>=3.2.0->cirq-rigetti==1.3.0->cirq) (0.23.3)\n",
      "Requirement already satisfied: PyJWT<3.0.0,>=2.4.0 in c:\\users\\35386\\anaconda3\\lib\\site-packages (from qcs-api-client<0.22.0,>=0.21.0->pyquil<4.0.0,>=3.2.0->cirq-rigetti==1.3.0->cirq) (2.4.0)\n",
      "Requirement already satisfied: ruamel.yaml in c:\\users\\35386\\anaconda3\\lib\\site-packages (from rpcq<4.0.0,>=3.10.0->pyquil<4.0.0,>=3.2.0->cirq-rigetti==1.3.0->cirq) (0.18.5)\n",
      "Requirement already satisfied: python-rapidjson in c:\\users\\35386\\anaconda3\\lib\\site-packages (from rpcq<4.0.0,>=3.10.0->pyquil<4.0.0,>=3.2.0->cirq-rigetti==1.3.0->cirq) (1.13)\n",
      "Requirement already satisfied: msgpack<2.0,>=0.6 in c:\\users\\35386\\anaconda3\\lib\\site-packages (from rpcq<4.0.0,>=3.10.0->pyquil<4.0.0,>=3.2.0->cirq-rigetti==1.3.0->cirq) (1.0.3)\n",
      "Requirement already satisfied: notebook>=4.4.1 in c:\\users\\35386\\anaconda3\\lib\\site-packages (from widgetsnbextension~=3.5.0->ipywidgets->cirq-ft==1.3.0->cirq) (6.4.12)\n",
      "Requirement already satisfied: soupsieve>1.2 in c:\\users\\35386\\anaconda3\\lib\\site-packages (from beautifulsoup4->nbconvert->cirq-ft==1.3.0->cirq) (2.3.1)\n",
      "Requirement already satisfied: webencodings in c:\\users\\35386\\anaconda3\\lib\\site-packages (from bleach->nbconvert->cirq-ft==1.3.0->cirq) (0.5.1)\n",
      "Requirement already satisfied: pywin32>=1.0 in c:\\users\\35386\\anaconda3\\lib\\site-packages (from jupyter_core->nbformat->cirq-ft==1.3.0->cirq) (302)\n",
      "Requirement already satisfied: sniffio in c:\\users\\35386\\anaconda3\\lib\\site-packages (from httpx<0.24.0,>=0.23.0->qcs-api-client<0.22.0,>=0.21.0->pyquil<4.0.0,>=3.2.0->cirq-rigetti==1.3.0->cirq) (1.2.0)\n",
      "Requirement already satisfied: httpcore<0.17.0,>=0.15.0 in c:\\users\\35386\\anaconda3\\lib\\site-packages (from httpx<0.24.0,>=0.23.0->qcs-api-client<0.22.0,>=0.21.0->pyquil<4.0.0,>=3.2.0->cirq-rigetti==1.3.0->cirq) (0.16.3)\n",
      "Requirement already satisfied: rfc3986[idna2008]<2,>=1.3 in c:\\users\\35386\\anaconda3\\lib\\site-packages (from httpx<0.24.0,>=0.23.0->qcs-api-client<0.22.0,>=0.21.0->pyquil<4.0.0,>=3.2.0->cirq-rigetti==1.3.0->cirq) (1.5.0)\n",
      "Requirement already satisfied: parso<0.9.0,>=0.8.0 in c:\\users\\35386\\anaconda3\\lib\\site-packages (from jedi>=0.16->ipython>=4.0.0->ipywidgets->cirq-ft==1.3.0->cirq) (0.8.3)\n",
      "Requirement already satisfied: terminado>=0.8.3 in c:\\users\\35386\\anaconda3\\lib\\site-packages (from notebook>=4.4.1->widgetsnbextension~=3.5.0->ipywidgets->cirq-ft==1.3.0->cirq) (0.13.1)\n",
      "Requirement already satisfied: prometheus-client in c:\\users\\35386\\anaconda3\\lib\\site-packages (from notebook>=4.4.1->widgetsnbextension~=3.5.0->ipywidgets->cirq-ft==1.3.0->cirq) (0.14.1)\n",
      "Requirement already satisfied: argon2-cffi in c:\\users\\35386\\anaconda3\\lib\\site-packages (from notebook>=4.4.1->widgetsnbextension~=3.5.0->ipywidgets->cirq-ft==1.3.0->cirq) (21.3.0)\n",
      "Requirement already satisfied: Send2Trash>=1.8.0 in c:\\users\\35386\\anaconda3\\lib\\site-packages (from notebook>=4.4.1->widgetsnbextension~=3.5.0->ipywidgets->cirq-ft==1.3.0->cirq) (1.8.0)\n",
      "Requirement already satisfied: wcwidth in c:\\users\\35386\\anaconda3\\lib\\site-packages (from prompt-toolkit!=3.0.0,!=3.0.1,<3.1.0,>=2.0.0->ipython>=4.0.0->ipywidgets->cirq-ft==1.3.0->cirq) (0.2.5)\n",
      "Requirement already satisfied: pyasn1<0.5.0,>=0.4.6 in c:\\users\\35386\\anaconda3\\lib\\site-packages (from pyasn1-modules>=0.2.1->google-auth<3.0.dev0,>=2.14.1->google-api-core[grpc]>=1.14.0->cirq-google==1.3.0->cirq) (0.4.8)\n",
      "Requirement already satisfied: ruamel.yaml.clib>=0.2.7 in c:\\users\\35386\\anaconda3\\lib\\site-packages (from ruamel.yaml->rpcq<4.0.0,>=3.10.0->pyquil<4.0.0,>=3.2.0->cirq-rigetti==1.3.0->cirq) (0.2.8)\n",
      "Requirement already satisfied: h11<0.15,>=0.13 in c:\\users\\35386\\anaconda3\\lib\\site-packages (from httpcore<0.17.0,>=0.15.0->httpx<0.24.0,>=0.23.0->qcs-api-client<0.22.0,>=0.21.0->pyquil<4.0.0,>=3.2.0->cirq-rigetti==1.3.0->cirq) (0.14.0)\n",
      "Requirement already satisfied: anyio<5.0,>=3.0 in c:\\users\\35386\\anaconda3\\lib\\site-packages (from httpcore<0.17.0,>=0.15.0->httpx<0.24.0,>=0.23.0->qcs-api-client<0.22.0,>=0.21.0->pyquil<4.0.0,>=3.2.0->cirq-rigetti==1.3.0->cirq) (3.5.0)\n",
      "Requirement already satisfied: pywinpty>=1.1.0 in c:\\users\\35386\\anaconda3\\lib\\site-packages (from terminado>=0.8.3->notebook>=4.4.1->widgetsnbextension~=3.5.0->ipywidgets->cirq-ft==1.3.0->cirq) (2.0.2)\n",
      "Requirement already satisfied: argon2-cffi-bindings in c:\\users\\35386\\anaconda3\\lib\\site-packages (from argon2-cffi->notebook>=4.4.1->widgetsnbextension~=3.5.0->ipywidgets->cirq-ft==1.3.0->cirq) (21.2.0)\n",
      "Requirement already satisfied: cffi>=1.0.1 in c:\\users\\35386\\anaconda3\\lib\\site-packages (from argon2-cffi-bindings->argon2-cffi->notebook>=4.4.1->widgetsnbextension~=3.5.0->ipywidgets->cirq-ft==1.3.0->cirq) (1.15.1)\n",
      "Requirement already satisfied: pycparser in c:\\users\\35386\\anaconda3\\lib\\site-packages (from cffi>=1.0.1->argon2-cffi-bindings->argon2-cffi->notebook>=4.4.1->widgetsnbextension~=3.5.0->ipywidgets->cirq-ft==1.3.0->cirq) (2.21)\n",
      "Note: you may need to restart the kernel to use updated packages.\n"
     ]
    },
    {
     "name": "stderr",
     "output_type": "stream",
     "text": [
      "WARNING: Ignoring invalid distribution -iskit-terra (c:\\users\\35386\\anaconda3\\lib\\site-packages)\n",
      "WARNING: Ignoring invalid distribution -iskit-terra (c:\\users\\35386\\anaconda3\\lib\\site-packages)\n",
      "WARNING: Ignoring invalid distribution -iskit-terra (c:\\users\\35386\\anaconda3\\lib\\site-packages)\n",
      "WARNING: Ignoring invalid distribution -iskit-terra (c:\\users\\35386\\anaconda3\\lib\\site-packages)\n",
      "WARNING: Ignoring invalid distribution -iskit-terra (c:\\users\\35386\\anaconda3\\lib\\site-packages)\n",
      "WARNING: Ignoring invalid distribution -iskit-terra (c:\\users\\35386\\anaconda3\\lib\\site-packages)\n"
     ]
    }
   ],
   "source": [
    "pip install cirq"
   ]
  },
  {
   "cell_type": "code",
   "execution_count": 11,
   "id": "9bef45f4",
   "metadata": {},
   "outputs": [
    {
     "ename": "NameError",
     "evalue": "name 'qasm_string' is not defined",
     "output_type": "error",
     "traceback": [
      "\u001b[1;31m---------------------------------------------------------------------------\u001b[0m",
      "\u001b[1;31mNameError\u001b[0m                                 Traceback (most recent call last)",
      "\u001b[1;32m~\\AppData\\Local\\Temp\\ipykernel_23272\\2902409472.py\u001b[0m in \u001b[0;36m<module>\u001b[1;34m\u001b[0m\n\u001b[0;32m     42\u001b[0m     \u001b[1;32mreturn\u001b[0m \u001b[0mnp\u001b[0m\u001b[1;33m.\u001b[0m\u001b[0mall\u001b[0m\u001b[1;33m(\u001b[0m\u001b[0mnp\u001b[0m\u001b[1;33m.\u001b[0m\u001b[0misclose\u001b[0m\u001b[1;33m(\u001b[0m\u001b[0mstate_vector\u001b[0m\u001b[1;33m,\u001b[0m \u001b[0mcirq_state_vector\u001b[0m\u001b[1;33m)\u001b[0m\u001b[1;33m)\u001b[0m\u001b[1;33m\u001b[0m\u001b[1;33m\u001b[0m\u001b[0m\n\u001b[0;32m     43\u001b[0m \u001b[1;33m\u001b[0m\u001b[0m\n\u001b[1;32m---> 44\u001b[1;33m \u001b[0mprint\u001b[0m\u001b[1;33m(\u001b[0m\u001b[0mcirq_simulate\u001b[0m\u001b[1;33m(\u001b[0m\u001b[0mqasm_string\u001b[0m\u001b[1;33m)\u001b[0m\u001b[1;33m)\u001b[0m\u001b[1;33m\u001b[0m\u001b[1;33m\u001b[0m\u001b[0m\n\u001b[0m\u001b[0;32m     45\u001b[0m \u001b[1;31m# get the directory of qasm files and make sure it's a directory\u001b[0m\u001b[1;33m\u001b[0m\u001b[1;33m\u001b[0m\u001b[0m\n\u001b[0;32m     46\u001b[0m \u001b[0mqasm_dir\u001b[0m \u001b[1;33m=\u001b[0m \u001b[0mPath\u001b[0m\u001b[1;33m(\u001b[0m\u001b[0msys\u001b[0m\u001b[1;33m.\u001b[0m\u001b[0margv\u001b[0m\u001b[1;33m[\u001b[0m\u001b[1;36m1\u001b[0m\u001b[1;33m]\u001b[0m\u001b[1;33m)\u001b[0m\u001b[1;33m\u001b[0m\u001b[1;33m\u001b[0m\u001b[0m\n",
      "\u001b[1;31mNameError\u001b[0m: name 'qasm_string' is not defined"
     ]
    }
   ],
   "source": [
    "import sys\n",
    "import numpy as np\n",
    "import cirq\n",
    "from cirq.contrib.qasm_import import circuit_from_qasm\n",
    "from pathlib import Path\n",
    "\n",
    "# Import your simulate function here.\n",
    "# cs238 can be a file, a folder with an __init__.py file,\n",
    "#from cs238 import simulate\n",
    "\n",
    "\n",
    "def cirq_simulate(qasm_string: str) -> list:\n",
    "    \"\"\"Simulate a qasm string\n",
    "\n",
    "    Args:\n",
    "        qasm_string: a string following the qasm format\n",
    "\n",
    "    Returns:\n",
    "        statevector: a list, with a complex number for\n",
    "            each of the 2^num_qubits possible amplitudes\n",
    "            Ordered big endian, see:\n",
    "        quantumai.google/reference/python/cirq/sim/StateVectorTrialResult#state_vector\n",
    "    \"\"\"\n",
    "\n",
    "    circuit = circuit_from_qasm(qasm_string)\n",
    "    result = cirq.Simulator().simulate(circuit)\n",
    "    statevector = list(np.around(result.state_vector(), 3))\n",
    "    return statevector\n",
    "\n",
    "\n",
    "def compare(state_vector, cirq_state_vector):\n",
    "    \"\"\"Our comparison function for your grade\n",
    "\n",
    "    Args:\n",
    "        state_vector: your state vector amplitude list\n",
    "        cirq_state_vector: cirq's state vector amplitude list\n",
    "\n",
    "    Returns:\n",
    "        Some value influencing your grade, subject to change :)\n",
    "    \"\"\"\n",
    "\n",
    "    return np.all(np.isclose(state_vector, cirq_state_vector))\n",
    "\n",
    "print(cirq_simulate(qasm_string))\n",
    "# get the directory of qasm files and make sure it's a directory\n",
    "qasm_dir = Path(sys.argv[1])\n",
    "assert qasm_dir.is_dir()\n",
    "\n",
    "# iterate the qasm files in the directory\n",
    "for qasm_file in qasm_dir.glob(\"**/*.qasm\"):\n",
    "    # read the qasm file\n",
    "    with open(qasm_file, \"r\") as f:\n",
    "        qasm_string = f.read()\n",
    "\n",
    "    # run your simulate function on the qasm string\n",
    "    state_vector = simulate(qasm_string)\n",
    "    # run cirq's simulator on the qasm string\n",
    "    cirq_state_vector = cirq_simulate(qasm_string)\n",
    "    # compare the results!\n",
    "    print(compare(state_vector, cirq_state_vector))\n"
   ]
  },
  {
   "cell_type": "code",
   "execution_count": null,
   "id": "00c4557f",
   "metadata": {},
   "outputs": [],
   "source": []
  },
  {
   "cell_type": "code",
   "execution_count": null,
   "id": "f3f3e4ba",
   "metadata": {},
   "outputs": [],
   "source": []
  },
  {
   "cell_type": "code",
   "execution_count": 12,
   "id": "3d5b40b9",
   "metadata": {},
   "outputs": [],
   "source": [
    "import time\n",
    "tests = ['miller_11 (1)', 'decod24-v2_43 (1)', 'one-two-three-v3_101', 'hwb5_53', 'alu-bdd_288', 'f2_232', 'con1_216', 'mini_alu_305']\n",
    "time_list = []\n",
    "valid = []\n",
    "qubits = np.array(range(len(tests))) + 3\n",
    "\n",
    "for test in tests:\n",
    "    qasm_file = r'C:\\Users\\35386\\Documents\\Qasm Files\\{}.qasm'.format(test)\n",
    "    with open(qasm_file, \"r\") as file:\n",
    "        instructions = file.readlines()\n",
    "        qasm_string = file.read()\n",
    "        qasm_lines = instructions \n",
    "        #print(qasm_lines)\n",
    "        start_time = time.time()\n",
    "        state_vector = simulate(qasm_lines)\n",
    "        #print(simulate(qasm_lines))\n",
    "        end = time.time()\n",
    "        elapsed_time = end - start_time\n",
    "        time_list.append(elapsed_time)\n",
    "        # run cirq's simulator on the qasm string\n",
    "        #cirq_state_vector = cirq_simulate(qasm_string)\n",
    "        # compare the results!\n",
    "        #print(state_vector,cirq_state_vector)\n",
    "        #print(validity)\n",
    "        #valid.append(validity)\n",
    "        "
   ]
  },
  {
   "cell_type": "code",
   "execution_count": null,
   "id": "cb04d747",
   "metadata": {},
   "outputs": [],
   "source": []
  },
  {
   "cell_type": "code",
   "execution_count": 13,
   "id": "74e6342f",
   "metadata": {},
   "outputs": [
    {
     "data": {
      "text/plain": [
       "Text(0, 0.5, 'Simulator Runtime')"
      ]
     },
     "execution_count": 13,
     "metadata": {},
     "output_type": "execute_result"
    },
    {
     "data": {
      "image/png": "[encoded data removed]",
      "text/plain": [
       "<Figure size 640x480 with 1 Axes>"
      ]
     },
     "metadata": {},
     "output_type": "display_data"
    }
   ],
   "source": [
    "num_qubits=[3,4,5,6,7,8,9,10]\n",
    "plt.plot(num_qubits,time_list)\n",
    "plt.xlabel(\"Number of Qubits\")\n",
    "plt.ylabel(\"Simulator Runtime\")"
   ]
  },
  {
   "cell_type": "code",
   "execution_count": null,
   "id": "3d3b5de2",
   "metadata": {},
   "outputs": [],
   "source": []
  }
 ],
 "metadata": {
  "kernelspec": {
   "display_name": "Python 3 (ipykernel)",
   "language": "python",
   "name": "python3"
  },
  "language_info": {
   "codemirror_mode": {
    "name": "ipython",
    "version": 3
   },
   "file_extension": ".py",
   "mimetype": "text/x-python",
   "name": "python",
   "nbconvert_exporter": "python",
   "pygments_lexer": "ipython3",
   "version": "3.9.13"
  }
 },
 "nbformat": 4,
 "nbformat_minor": 5
}
